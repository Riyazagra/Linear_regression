{
 "cells": [
  {
   "cell_type": "code",
   "execution_count": null,
   "id": "7fbbbfad-2e9b-479f-b1b3-637a14ecab7c",
   "metadata": {},
   "outputs": [],
   "source": [
    "###Implementing Simple Linear Regression from Scratch "
   ]
  },
  {
   "cell_type": "code",
   "execution_count": 1,
   "id": "2a93f9e5-75d6-48c1-93d9-abfa7a4e6a7f",
   "metadata": {},
   "outputs": [],
   "source": [
    "import pandas as pd\n",
    "import numpy as np\n",
    "%matplotlib inline\n",
    "import matplotlib.pyplot as plt"
   ]
  },
  {
   "cell_type": "code",
   "execution_count": 2,
   "id": "7801dbbf-aef2-4a92-8f47-ea5faea59b17",
   "metadata": {},
   "outputs": [],
   "source": [
    "ds = pd.read_csv('Salary_Data.csv')"
   ]
  },
  {
   "cell_type": "code",
   "execution_count": 3,
   "id": "1460da16-2f2e-410e-8c4f-241486b83535",
   "metadata": {},
   "outputs": [],
   "source": [
    "X=np.array(ds['YearsExperience'].values)\n",
    "y=np.array(ds['Salary'].values)"
   ]
  },
  {
   "cell_type": "code",
   "execution_count": 4,
   "id": "d8e797b7-f4f7-4463-bea6-dc849715ea0b",
   "metadata": {},
   "outputs": [
    {
     "data": {
      "text/plain": [
       "array([ 1.1,  1.3,  1.5,  2. ,  2.2,  2.9,  3. ,  3.2,  3.2,  3.7,  3.9,\n",
       "        4. ,  4. ,  4.1,  4.5,  4.9,  5.1,  5.3,  5.9,  6. ,  6.8,  7.1,\n",
       "        7.9,  8.2,  8.7,  9. ,  9.5,  9.6, 10.3, 10.5])"
      ]
     },
     "execution_count": 4,
     "metadata": {},
     "output_type": "execute_result"
    }
   ],
   "source": [
    "X"
   ]
  },
  {
   "cell_type": "code",
   "execution_count": 5,
   "id": "b64f1204-d50c-49ff-99b2-09fca5dd0a53",
   "metadata": {},
   "outputs": [
    {
     "data": {
      "text/plain": [
       "array([ 39343,  46205,  37731,  43525,  39891,  56642,  60150,  54445,\n",
       "        64445,  57189,  63218,  55794,  56957,  57081,  61111,  67938,\n",
       "        66029,  83088,  81363,  93940,  91738,  98273, 101302, 113812,\n",
       "       109431, 105582, 116969, 112635, 122391, 121872], dtype=int64)"
      ]
     },
     "execution_count": 5,
     "metadata": {},
     "output_type": "execute_result"
    }
   ],
   "source": [
    "y"
   ]
  },
  {
   "cell_type": "code",
   "execution_count": 6,
   "id": "3316e7b0-438f-4dbc-ae0a-48ae702be27d",
   "metadata": {},
   "outputs": [],
   "source": [
    "def mean(X):\n",
    "    return np.sum(X)/len(X)"
   ]
  },
  {
   "cell_type": "code",
   "execution_count": 7,
   "id": "fcb39437-3e27-4e2e-aa0e-31e932630dc8",
   "metadata": {},
   "outputs": [],
   "source": [
    "def variance(X):\n",
    "    mean_value = mean(X)\n",
    "    return np.sum((X-mean_value)**2)/len(X)"
   ]
  },
  {
   "cell_type": "code",
   "execution_count": 8,
   "id": "f0845da6-6caf-489e-a77d-57eb67f8d9c0",
   "metadata": {},
   "outputs": [],
   "source": [
    "def norm(X):\n",
    "    mean_value = mean(X)\n",
    "    variance_value = variance(X)\n",
    "    return (X-mean_value)/np.sqrt(variance_value)"
   ]
  },
  {
   "cell_type": "code",
   "execution_count": 9,
   "id": "b8fa37d5-daeb-49e8-86ba-3eccb8eb3b6e",
   "metadata": {},
   "outputs": [
    {
     "data": {
      "text/plain": [
       "[<matplotlib.lines.Line2D at 0x26b22842000>]"
      ]
     },
     "execution_count": 9,
     "metadata": {},
     "output_type": "execute_result"
    }
   ],
   "source": [
    "plt.plot(X,y)"
   ]
  },
  {
   "cell_type": "code",
   "execution_count": 10,
   "id": "3be3dae7-8c62-4b16-9845-aebd322c8404",
   "metadata": {},
   "outputs": [],
   "source": [
    "import random"
   ]
  },
  {
   "cell_type": "code",
   "execution_count": 11,
   "id": "beebdc41-120d-4b6e-8906-e8b1b50bc8fc",
   "metadata": {},
   "outputs": [],
   "source": [
    "class LrRegression:\n",
    "    #init function with learning rate lr, max_iteration=max_iteration,threshold as arguments\n",
    "    def __init__(self,lr=0.1,max_iteration=2000,threshold=1e-6):\n",
    "        self.lr=lr\n",
    "        self.max_iteration = max_iteration\n",
    "        self.threshold = threshold\n",
    "        self.weights = random.uniform(-1,1)\n",
    "        self.bias =  random.uniform(-1,1)\n",
    "    def predict(self,X):\n",
    "        return  self.weights*X+self.bias #y_pred = ax+c a is weight and c is bias\n",
    "    def fit(self,X,y):\n",
    "        y_pred = self.predict(X)\n",
    "        errors = y-y_pred\n",
    "        n=len(X)\n",
    "        #To append previous and current loss \n",
    "        loss_history = []\n",
    "        #Calculating loss using loss function\n",
    "        prev_loss = 1/(2*n) * np.sum(errors**2)\n",
    "        loss_history.append(prev_loss)\n",
    "        for i in range(self.max_iteration):\n",
    "            w_grad = 1/n *np.sum(errors*X)\n",
    "            b_grad = 1/n *np.sum(errors)\n",
    "            self.weights += self.lr * w_grad\n",
    "            self.bias +=  self.lr * b_grad\n",
    "            y_pred = self.predict(X)\n",
    "            errors = y-y_pred\n",
    "            curr_loss = 1/(2*n) * np.sum(errors**2)\n",
    "            if np.abs(curr_loss - prev_loss) < self.threshold:\n",
    "             break\n",
    "            prev_loss = curr_loss\n",
    "            loss_history.append(curr_loss)\n",
    "        return loss_history\n",
    "    def plot(self,X,y):\n",
    "        y_pred = self.predict(X)\n",
    "        plt.plot(X,y)\n",
    "        plt.plot(X,y_pred)"
   ]
  },
  {
   "cell_type": "code",
   "execution_count": 12,
   "id": "014a5db4-4f6d-4483-bdde-14c72690103e",
   "metadata": {},
   "outputs": [],
   "source": [
    "model = LrRegression()"
   ]
  },
  {
   "cell_type": "code",
   "execution_count": 13,
   "id": "77b56ec9-66d9-443b-aabb-fbf852c22319",
   "metadata": {},
   "outputs": [],
   "source": [
    "loss_history = model.fit(norm(X),y)"
   ]
  },
  {
   "cell_type": "code",
   "execution_count": 14,
   "id": "bd5229d6-5d14-4ad3-8492-7065e0f366f7",
   "metadata": {},
   "outputs": [
    {
     "data": {
      "text/plain": [
       "[3251499190.1111393,\n",
       " 2636685084.40364,\n",
       " 2138685658.7805648,\n",
       " 1735306124.0258744,\n",
       " 1408568700.8745747,\n",
       " 1143911388.1220222,\n",
       " 929538964.7924547,\n",
       " 755897301.8955053,\n",
       " 615247554.9489759,\n",
       " 501321259.92228717,\n",
       " 409040960.9506693,\n",
       " 334293918.78365886,\n",
       " 273748814.62838024,\n",
       " 224707280.26260465,\n",
       " 184983637.42632645,\n",
       " 152807486.7289411,\n",
       " 126744804.66405897,\n",
       " 105634032.19150452,\n",
       " 88534306.4887354,\n",
       " 74683528.66949232,\n",
       " 63464398.63590549,\n",
       " 54376903.30870012,\n",
       " 47016032.09366375,\n",
       " 41053726.4094843,\n",
       " 36224258.805299,\n",
       " 32312390.04590887,\n",
       " 29143776.350802854,\n",
       " 26577199.257766962,\n",
       " 24498271.812407915,\n",
       " 22814340.581667125,\n",
       " 21450356.284767073,\n",
       " 20345529.004278,\n",
       " 19450618.907081872,\n",
       " 18725741.728352994,\n",
       " 18138591.213582613,\n",
       " 17662999.296618603,\n",
       " 17277769.843877763,\n",
       " 16965733.98715767,\n",
       " 16712984.943214398,\n",
       " 16508258.217620356,\n",
       " 16342429.56988918,\n",
       " 16208108.365226924,\n",
       " 16099308.189450495,\n",
       " 16011180.047071597,\n",
       " 15939796.25174468,\n",
       " 15881975.377529884,\n",
       " 15835140.469415894,\n",
       " 15797204.193843564,\n",
       " 15766475.810629977,\n",
       " 15741585.820226971,\n",
       " 15721424.928000545,\n",
       " 15705094.605297126,\n",
       " 15691867.043907374,\n",
       " 15681152.719181657,\n",
       " 15672474.116153838,\n",
       " 15665444.4477013,\n",
       " 15659750.416254742,\n",
       " 15655138.250783034,\n",
       " 15651402.396750944,\n",
       " 15648376.354984952,\n",
       " 15645925.261154499,\n",
       " 15643939.875151847,\n",
       " 15642331.712489687,\n",
       " 15641029.100733336,\n",
       " 15639973.985210693,\n",
       " 15639119.34163735,\n",
       " 15638427.080342948,\n",
       " 15637866.348694475,\n",
       " 15637412.156059213,\n",
       " 15637044.260024661,\n",
       " 15636746.264236664,\n",
       " 15636504.887648387,\n",
       " 15636309.372611888,\n",
       " 15636151.005432313,\n",
       " 15636022.728016876,\n",
       " 15635918.823310355,\n",
       " 15635834.660498085,\n",
       " 15635766.488620142,\n",
       " 15635711.269399,\n",
       " 15635666.541829882,\n",
       " 15635630.312498895,\n",
       " 15635600.9667408,\n",
       " 15635577.196676737,\n",
       " 15635557.942924857,\n",
       " 15635542.347385818,\n",
       " 15635529.71499921,\n",
       " 15635519.482766045,\n",
       " 15635511.1946572,\n",
       " 15635504.48128902,\n",
       " 15635499.043460786,\n",
       " 15635494.638819935,\n",
       " 15635491.071060838,\n",
       " 15635488.181175971,\n",
       " 15635485.84036923,\n",
       " 15635483.944315763,\n",
       " 15635482.408512468,\n",
       " 15635481.164511785,\n",
       " 15635480.156871237,\n",
       " 15635479.340682397,\n",
       " 15635478.679569429,\n",
       " 15635478.144067934,\n",
       " 15635477.710311716,\n",
       " 15635477.358969182,\n",
       " 15635477.07438172,\n",
       " 15635476.843865883,\n",
       " 15635476.657148067,\n",
       " 15635476.505906628,\n",
       " 15635476.38340105,\n",
       " 15635476.284171548,\n",
       " 15635476.203795642,\n",
       " 15635476.138691159,\n",
       " 15635476.085956536,\n",
       " 15635476.043241484,\n",
       " 15635476.008642295,\n",
       " 15635475.980616942,\n",
       " 15635475.957916424,\n",
       " 15635475.939528985,\n",
       " 15635475.924635177,\n",
       " 15635475.912571182,\n",
       " 15635475.902799347,\n",
       " 15635475.894884164,\n",
       " 15635475.888472857,\n",
       " 15635475.88327971,\n",
       " 15635475.879073257,\n",
       " 15635475.875666035,\n",
       " 15635475.872906182,\n",
       " 15635475.8706707,\n",
       " 15635475.868859949,\n",
       " 15635475.867393255,\n",
       " 15635475.86620523,\n",
       " 15635475.865242926,\n",
       " 15635475.864463462,\n",
       " 15635475.863832096,\n",
       " 15635475.863320695,\n",
       " 15635475.862906454,\n",
       " 15635475.86257091,\n",
       " 15635475.862299131,\n",
       " 15635475.862078987,\n",
       " 15635475.86190068,\n",
       " 15635475.86175624,\n",
       " 15635475.861639239,\n",
       " 15635475.861544482,\n",
       " 15635475.861467717,\n",
       " 15635475.861405544,\n",
       " 15635475.861355176,\n",
       " 15635475.86131439,\n",
       " 15635475.861281343,\n",
       " 15635475.86125458,\n",
       " 15635475.861232901,\n",
       " 15635475.861215338,\n",
       " 15635475.861201117,\n",
       " 15635475.861189602,\n",
       " 15635475.861180266,\n",
       " 15635475.861172706,\n",
       " 15635475.861166583,\n",
       " 15635475.861161627,\n",
       " 15635475.861157604,\n",
       " 15635475.86115435,\n",
       " 15635475.861151725,\n",
       " 15635475.861149589,\n",
       " 15635475.861147853,\n",
       " 15635475.861146452,\n",
       " 15635475.861145316]"
      ]
     },
     "execution_count": 14,
     "metadata": {},
     "output_type": "execute_result"
    }
   ],
   "source": [
    "loss_history"
   ]
  },
  {
   "cell_type": "code",
   "execution_count": 36,
   "id": "89a12b45-f28e-466d-b23c-acb550e62885",
   "metadata": {},
   "outputs": [
    {
     "data": {
      "image/png": "[encoded data removed]",
      "text/plain": [
       "<Figure size 640x480 with 1 Axes>"
      ]
     },
     "metadata": {},
     "output_type": "display_data"
    }
   ],
   "source": [
    "plt.plot(loss_history)\n",
    "plt.show()"
   ]
  },
  {
   "cell_type": "code",
   "execution_count": 34,
   "id": "5fe7be8b-9e1c-42ec-88dc-92a3f12efce5",
   "metadata": {},
   "outputs": [
    {
     "data": {
      "image/png": "[encoded data removed]",
      "text/plain": [
       "<Figure size 640x480 with 1 Axes>"
      ]
     },
     "metadata": {},
     "output_type": "display_data"
    }
   ],
   "source": [
    "model.plot(norm(X),y)\n",
    "plt.show()"
   ]
  },
  {
   "cell_type": "code",
   "execution_count": null,
   "id": "8aa6f130-0d04-4ec0-bed5-dfca4de3a7a8",
   "metadata": {},
   "outputs": [],
   "source": [
    "## The above is best fit line"
   ]
  }
 ],
 "metadata": {
  "kernelspec": {
   "display_name": "Python [conda env:base] *",
   "language": "python",
   "name": "conda-base-py"
  },
  "language_info": {
   "codemirror_mode": {
    "name": "ipython",
    "version": 3
   },
   "file_extension": ".py",
   "mimetype": "text/x-python",
   "name": "python",
   "nbconvert_exporter": "python",
   "pygments_lexer": "ipython3",
   "version": "3.12.7"
  }
 },
 "nbformat": 4,
 "nbformat_minor": 5
}
